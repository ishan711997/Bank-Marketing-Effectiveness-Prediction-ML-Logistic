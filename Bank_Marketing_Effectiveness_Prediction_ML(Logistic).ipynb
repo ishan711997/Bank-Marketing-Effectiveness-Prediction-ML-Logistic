{
  "nbformat": 4,
  "nbformat_minor": 0,
  "metadata": {
    "colab": {
      "private_outputs": true,
      "provenance": [],
      "collapsed_sections": [
        "vncDsAP0Gaoa",
        "FJNUwmbgGyua",
        "w6K7xa23Elo4",
        "HhfV-JJviCcP",
        "x71ZqKXriCWQ",
        "H0kj-8xxnORC",
        "nA9Y7ga8ng1Z",
        "PBTbrJXOngz2",
        "dauF4eBmngu3",
        "bKJF3rekwFvQ",
        "JlRho1mSjLLz",
        "uEF1O4Dliegj",
        "eIZMTH8ir6bX",
        "CVD7SZHpr7Ew",
        "lKiUZ4nUw1sv",
        "-OF4M2dXeBER",
        "I8e8PR2Uym7B",
        "IcvbVCddM6RX",
        "7oIbson6R4Lg",
        "6kb3bzcUmr60",
        "rd3yqikhxaKK",
        "U8IVnDXxBZ8m",
        "fq4Flzi-rNej",
        "MSa1f5Uengrz",
        "0Cxg5ChWVmml",
        "rMDnDkt2B6du",
        "OB4l2ZhMeS1U",
        "ArJBuiUVfxKd",
        "4qY1EAkEfxKe",
        "PiV4Ypx8fxKe",
        "TfvqoZmBfxKf",
        "dJ2tPlVmpsJ0",
        "JWYfwnehpsJ1",
        "-jK_YjpMpsJ2",
        "HAih1iBOpsJ2",
        "zVGeBEFhpsJ2",
        "bmKjuQ-FpsJ3",
        "Fze-IPXLpx6K",
        "7AN1z2sKpx6M",
        "9PIHJqyupx6M",
        "_-qAgymDpx6N",
        "Z-hykwinpx6N",
        "h_CCil-SKHpo",
        "cBFFvTBNJzUa",
        "HvGl1hHyA_VK",
        "EyNgTHvd2WFk",
        "KH5McJBi2d8v",
        "iW_Lq9qf2h6X",
        "-Kee-DAl2viO",
        "gCX9965dhzqZ",
        "gIfDvo9L0UH2"
      ],
      "include_colab_link": true
    },
    "kernelspec": {
      "name": "python3",
      "display_name": "Python 3"
    },
    "language_info": {
      "name": "python"
    }
  },
  "cells": [
    {
      "cell_type": "markdown",
      "metadata": {
        "id": "view-in-github",
        "colab_type": "text"
      },
      "source": [
        "<a href=\"https://colab.research.google.com/github/ishan711997/Bank-Marketing-Effectiveness-Prediction-ML-Logistic/blob/main/Bank_Marketing_Effectiveness_Prediction_ML(Logistic).ipynb\" target=\"_parent\"><img src=\"https://colab.research.google.com/assets/colab-badge.svg\" alt=\"Open In Colab\"/></a>"
      ]
    },
    {
      "cell_type": "markdown",
      "source": [
        "# **Project Name**    -\n",
        "\n"
      ],
      "metadata": {
        "id": "vncDsAP0Gaoa"
      }
    },
    {
      "cell_type": "markdown",
      "source": [
        "##### **Project Type**    - Classification\n",
        "##### **Contribution**    - Individual\n",
        "##### **Team Member 1 -** Ishan Srivastava"
      ],
      "metadata": {
        "id": "beRrZCGUAJYm"
      }
    },
    {
      "cell_type": "markdown",
      "source": [
        "# **Project Summary -**"
      ],
      "metadata": {
        "id": "FJNUwmbgGyua"
      }
    },
    {
      "cell_type": "markdown",
      "source": [
        "Write the summary here within 500-600 words."
      ],
      "metadata": {
        "id": "F6v_1wHtG2nS"
      }
    },
    {
      "cell_type": "markdown",
      "source": [
        "# **GitHub Link -**"
      ],
      "metadata": {
        "id": "w6K7xa23Elo4"
      }
    },
    {
      "cell_type": "markdown",
      "source": [
        "[Ishan Github's Link](https://github.com/ishan711997/Bank-Marketing-Effectiveness-Prediction-ML-Logistic)"
      ],
      "metadata": {
        "id": "h1o69JH3Eqqn"
      }
    },
    {
      "cell_type": "markdown",
      "source": [
        "# **Problem Statement**\n"
      ],
      "metadata": {
        "id": "yQaldy8SH6Dl"
      }
    },
    {
      "cell_type": "markdown",
      "source": [
        "**Write Problem Statement Here.**"
      ],
      "metadata": {
        "id": "DpeJGUA3kjGy"
      }
    },
    {
      "cell_type": "markdown",
      "source": [
        "# ***Let's Begin !***"
      ],
      "metadata": {
        "id": "O_i_v8NEhb9l"
      }
    },
    {
      "cell_type": "markdown",
      "source": [
        "## ***1. Know Your Data***"
      ],
      "metadata": {
        "id": "HhfV-JJviCcP"
      }
    },
    {
      "cell_type": "code",
      "source": [
        "from google.colab import drive\n",
        "drive.mount('/content/drive')"
      ],
      "metadata": {
        "id": "GiDsSk_FPcvq"
      },
      "execution_count": null,
      "outputs": []
    },
    {
      "cell_type": "code",
      "source": [
        "# installing manually klib\n",
        "!pip install klib"
      ],
      "metadata": {
        "id": "ENIHxW9ublaG"
      },
      "execution_count": null,
      "outputs": []
    },
    {
      "cell_type": "code",
      "source": [
        "# Importing basic Libraries\n",
        "import pandas as pd\n",
        "import numpy as np\n",
        "import matplotlib.pyplot as plt\n",
        "import seaborn as sns\n",
        "\n",
        "import klib\n",
        "\n",
        "import warnings\n",
        "warnings.filterwarnings('ignore')"
      ],
      "metadata": {
        "id": "M8Vqi-pPk-HR"
      },
      "execution_count": null,
      "outputs": []
    },
    {
      "cell_type": "code",
      "source": [
        "# Load Dataset\n",
        "data = pd.read_csv('/content/drive/MyDrive/Colab Notebooks/Capstone Projects/Capstone P3/data/bank-full.csv', sep = \";\")"
      ],
      "metadata": {
        "id": "4CkvbW_SlZ_R"
      },
      "execution_count": null,
      "outputs": []
    },
    {
      "cell_type": "markdown",
      "source": [
        "### Dataset First View"
      ],
      "metadata": {
        "id": "x71ZqKXriCWQ"
      }
    },
    {
      "cell_type": "code",
      "source": [
        "# first view\n",
        "data.sample(5)"
      ],
      "metadata": {
        "id": "LWNFOSvLl09H"
      },
      "execution_count": null,
      "outputs": []
    },
    {
      "cell_type": "code",
      "source": [
        "# Dataset Rows & Columns count\n",
        "data.shape"
      ],
      "metadata": {
        "id": "Kllu7SJgmLij"
      },
      "execution_count": null,
      "outputs": []
    },
    {
      "cell_type": "code",
      "source": [
        "# data info\n",
        "data.info()"
      ],
      "metadata": {
        "id": "e9hRXRi6meOf"
      },
      "execution_count": null,
      "outputs": []
    },
    {
      "cell_type": "code",
      "source": [
        "# Dataset Duplicate Value Count\n",
        "data.duplicated().sum()"
      ],
      "metadata": {
        "id": "1sLdpKYkmox0"
      },
      "execution_count": null,
      "outputs": []
    },
    {
      "cell_type": "code",
      "source": [
        "data.isna().sum()"
      ],
      "metadata": {
        "id": "GgHWkxvamxVg"
      },
      "execution_count": null,
      "outputs": []
    },
    {
      "cell_type": "markdown",
      "source": [
        "### What did you know about your dataset?"
      ],
      "metadata": {
        "id": "H0kj-8xxnORC"
      }
    },
    {
      "cell_type": "markdown",
      "source": [
        "The dataset consists of 45,211 entries and 17 columns. It contains both numerical and categorical data. There are no missing values in the dataset."
      ],
      "metadata": {
        "id": "gfoNAAC-nUe_"
      }
    },
    {
      "cell_type": "markdown",
      "source": [
        "## ***2. Understanding Your Variables***"
      ],
      "metadata": {
        "id": "nA9Y7ga8ng1Z"
      }
    },
    {
      "cell_type": "code",
      "source": [
        "# Dataset Columns\n",
        "data.columns"
      ],
      "metadata": {
        "id": "j7xfkqrt5Ag5"
      },
      "execution_count": null,
      "outputs": []
    },
    {
      "cell_type": "code",
      "source": [
        "# describing data only for object numarical\n",
        "data.describe()"
      ],
      "metadata": {
        "id": "DnOaZdaE5Q5t"
      },
      "execution_count": null,
      "outputs": []
    },
    {
      "cell_type": "code",
      "source": [
        "# describing data only for object features\n",
        "data.describe(include='object')"
      ],
      "metadata": {
        "id": "ZsaXaoBzgSYZ"
      },
      "execution_count": null,
      "outputs": []
    },
    {
      "cell_type": "markdown",
      "source": [
        "### Variables Description"
      ],
      "metadata": {
        "id": "PBTbrJXOngz2"
      }
    },
    {
      "cell_type": "markdown",
      "source": [
        "**The columns in the dataset include:**\n",
        "* **age:** The age of the individual.\n",
        "* **job:** The occupation of the individual.\n",
        "* **marital:** Marital status of the individual.\n",
        "* **education:** Educational background of the individual.\n",
        "* **default:** Whether the individual has credit in default.\n",
        "* **balance:** Balance of the individual's account.\n",
        "* **housing:** Whether the individual has a housing loan.\n",
        "* **loan:** Whether the individual has a personal loan.\n",
        "* **contact:** Communication type used to contact the  individual.\n",
        "* **day:** Day of the month when the contact was last made.\n",
        "* **month:** Month when the contact was last made.\n",
        "* **duration:** Duration of the last contact in seconds.\n",
        "* **campaign:** Number of contacts performed during this campaign for this individual.\n",
        "* **pdays:** Number of days that passed after the client was last contacted from a previous campaign.\n",
        "* **previous:** Number of contacts performed before this campaign for this individual.\n",
        "* **poutcome:** Outcome of the previous marketing campaign.\n",
        "* **y:** Whether the client has subscribed to a term deposit (target variable)."
      ],
      "metadata": {
        "id": "aJV4KIxSnxay"
      }
    },
    {
      "cell_type": "code",
      "source": [
        "# Check Unique Values for each variable.\n",
        "data.nunique()"
      ],
      "metadata": {
        "id": "zms12Yq5n-jE"
      },
      "execution_count": null,
      "outputs": []
    },
    {
      "cell_type": "markdown",
      "source": [
        "## 3. ***Data Wrangling & EDA***"
      ],
      "metadata": {
        "id": "dauF4eBmngu3"
      }
    },
    {
      "cell_type": "markdown",
      "source": [
        "### **Data Wrangling**"
      ],
      "metadata": {
        "id": "bKJF3rekwFvQ"
      }
    },
    {
      "cell_type": "code",
      "source": [
        "# made a copy of our origional data\n",
        "df = data.copy()"
      ],
      "metadata": {
        "id": "wk-9a2fpoLcV"
      },
      "execution_count": null,
      "outputs": []
    },
    {
      "cell_type": "code",
      "source": [
        "# function for checking distribution and outlier\n",
        "# num = df.describe().columns\n",
        "\n",
        "def hist_box(data):\n",
        "  num = data.describe().columns\n",
        "  for col in num:\n",
        "    fig, axes = plt.subplots(1, 2, figsize=(12, 4))\n",
        "\n",
        "    # Histogram\n",
        "    sns.histplot(df[col], ax=axes[0], kde=True)\n",
        "    axes[0].set_title(f'Distribution of {col}')\n",
        "    axes[0].set_xlabel(col)\n",
        "\n",
        "    # Box Plot\n",
        "    sns.boxplot(df[col], ax=axes[1])\n",
        "    axes[1].set_title(f'Outlier in {col}')\n",
        "    axes[1].set_xlabel(col)\n",
        "\n",
        "    plt.tight_layout()\n",
        "    plt.show()"
      ],
      "metadata": {
        "id": "fpc0IOjN3jYT"
      },
      "execution_count": null,
      "outputs": []
    },
    {
      "cell_type": "code",
      "source": [
        "# function for pie chart plot\n",
        "def pie_chart(col, title=\"\", ax=None):\n",
        "  if ax is None:\n",
        "    fig, ax = plt.subplots(figsize=(6, 6))\n",
        "  ax.pie(df[col].value_counts(), labels=df[col].value_counts().index, autopct='%1.1f%%')\n",
        "  ax.set_title(title)\n",
        "  my_circle = plt.Circle((0, 0), 0.7, color='white')\n",
        "  p = plt.gcf()\n",
        "  p.gca().add_artist(my_circle)\n",
        "  return ax"
      ],
      "metadata": {
        "id": "Sc6k7EfCMauq"
      },
      "execution_count": null,
      "outputs": []
    },
    {
      "cell_type": "markdown",
      "source": [
        "### **EDA**"
      ],
      "metadata": {
        "id": "UJqI6lYYg-VG"
      }
    },
    {
      "cell_type": "code",
      "source": [
        "# Calling the function for seeking distribution and outliers in numerical columns\n",
        "hist_box(df)"
      ],
      "metadata": {
        "id": "ASblgtbng3xb"
      },
      "execution_count": null,
      "outputs": []
    },
    {
      "cell_type": "code",
      "source": [
        "# using klib we can visualize data clearly\n",
        "num = df.describe().columns\n",
        "for col in num:\n",
        "  klib.dist_plot(df[col])"
      ],
      "metadata": {
        "id": "2m8h8KAObXyx"
      },
      "execution_count": null,
      "outputs": []
    },
    {
      "cell_type": "markdown",
      "source": [
        "#### **Univariate Analysis**"
      ],
      "metadata": {
        "id": "JlRho1mSjLLz"
      }
    },
    {
      "cell_type": "markdown",
      "source": [
        "##### **1. Age**"
      ],
      "metadata": {
        "id": "uEF1O4Dliegj"
      }
    },
    {
      "cell_type": "code",
      "source": [
        "df.age.value_counts().sort_values()"
      ],
      "metadata": {
        "id": "uwU9rLW93jj0"
      },
      "execution_count": null,
      "outputs": []
    },
    {
      "cell_type": "code",
      "source": [
        "sns.histplot(df['age'], bins= 20)"
      ],
      "metadata": {
        "id": "F15UwbNb_Awz"
      },
      "execution_count": null,
      "outputs": []
    },
    {
      "cell_type": "markdown",
      "source": [
        "Majority of customer fall into **30s and 40s age group** and minority of customer after 60s age group."
      ],
      "metadata": {
        "id": "Uue4BomECS5J"
      }
    },
    {
      "cell_type": "markdown",
      "source": [
        "##### **2. Job**"
      ],
      "metadata": {
        "id": "eIZMTH8ir6bX"
      }
    },
    {
      "cell_type": "code",
      "source": [
        "df.job.value_counts().sort_values()"
      ],
      "metadata": {
        "id": "PGqBPN3Nr6bs"
      },
      "execution_count": null,
      "outputs": []
    },
    {
      "cell_type": "code",
      "source": [
        "pie_chart('job')"
      ],
      "metadata": {
        "id": "lO6NceQSr6bt"
      },
      "execution_count": null,
      "outputs": []
    },
    {
      "cell_type": "markdown",
      "source": [
        "Most of the customer belongs to **Blue Caller job (21.5%)** followed by managment and technician."
      ],
      "metadata": {
        "id": "SGRyHDQcCX-I"
      }
    },
    {
      "cell_type": "markdown",
      "source": [
        "##### **3. Marital**"
      ],
      "metadata": {
        "id": "CVD7SZHpr7Ew"
      }
    },
    {
      "cell_type": "code",
      "source": [
        "df.marital.value_counts().sort_values()"
      ],
      "metadata": {
        "id": "Rggq8Ohnr7Ey"
      },
      "execution_count": null,
      "outputs": []
    },
    {
      "cell_type": "code",
      "source": [
        "pie_chart('marital')"
      ],
      "metadata": {
        "id": "lXwLYh70vVlo"
      },
      "execution_count": null,
      "outputs": []
    },
    {
      "cell_type": "markdown",
      "source": [
        "Mostly cumstomer are **married (60.19%)**."
      ],
      "metadata": {
        "id": "nDaxSH4YCoLD"
      }
    },
    {
      "cell_type": "markdown",
      "source": [
        "##### **4. Education**"
      ],
      "metadata": {
        "id": "lKiUZ4nUw1sv"
      }
    },
    {
      "cell_type": "code",
      "source": [
        "df.education.value_counts().sort_values()"
      ],
      "metadata": {
        "id": "5UOWmQD-w1tC"
      },
      "execution_count": null,
      "outputs": []
    },
    {
      "cell_type": "code",
      "source": [
        "pie_chart('education')"
      ],
      "metadata": {
        "id": "n_STC1wfw1tC"
      },
      "execution_count": null,
      "outputs": []
    },
    {
      "cell_type": "markdown",
      "source": [
        "**Primary education is less** common among customers, with the **majority having attained secondary education (51.32%)**."
      ],
      "metadata": {
        "id": "UU_TIJxoCty4"
      }
    },
    {
      "cell_type": "markdown",
      "source": [
        "##### **5. Balance**"
      ],
      "metadata": {
        "id": "-OF4M2dXeBER"
      }
    },
    {
      "cell_type": "code",
      "source": [
        "round(df.groupby(['job'])['balance'].mean(),1).sort_values()"
      ],
      "metadata": {
        "id": "5VFTrokJeBEg"
      },
      "execution_count": null,
      "outputs": []
    },
    {
      "cell_type": "code",
      "source": [
        "# barplot of balance wrt jobs\n",
        "plt.figure(figsize=(15,6))\n",
        "sns.barplot(data = df, x='job', y='balance',  estimator='mean')"
      ],
      "metadata": {
        "id": "C9giP2Slg9io"
      },
      "execution_count": null,
      "outputs": []
    },
    {
      "cell_type": "markdown",
      "source": [
        "we have seen **service** person has **less balance** in bank account, while **retiered person** has **good amount** of balance."
      ],
      "metadata": {
        "id": "ihjqykNtCzHe"
      }
    },
    {
      "cell_type": "markdown",
      "source": [
        "##### **6. Credit & Loan (Default, Housing, Loan)**"
      ],
      "metadata": {
        "id": "I8e8PR2Uym7B"
      }
    },
    {
      "cell_type": "code",
      "source": [
        "df.default.value_counts().sort_values()"
      ],
      "metadata": {
        "id": "YLrak9Hkym7W"
      },
      "execution_count": null,
      "outputs": []
    },
    {
      "cell_type": "code",
      "source": [
        "df.housing.value_counts().sort_values()"
      ],
      "metadata": {
        "id": "V_npQ7NSMh3P"
      },
      "execution_count": null,
      "outputs": []
    },
    {
      "cell_type": "code",
      "source": [
        "df.loan.value_counts().sort_values()"
      ],
      "metadata": {
        "id": "e2O76eLeMhk5"
      },
      "execution_count": null,
      "outputs": []
    },
    {
      "cell_type": "code",
      "source": [
        "# Create a figure and subplots\n",
        "fig, axes = plt.subplots(1, 3, figsize=(15, 5))  # 1 row, 3 columns\n",
        "\n",
        "# Plot the pie charts\n",
        "pie_chart('default', title='Default', ax=axes[0])\n",
        "pie_chart('housing', title='Housing', ax=axes[1])\n",
        "pie_chart('loan', title='Loan', ax=axes[2])"
      ],
      "metadata": {
        "id": "QlP6fqqbym7X"
      },
      "execution_count": null,
      "outputs": []
    },
    {
      "cell_type": "markdown",
      "source": [
        "**Only 1.80% customer** has credit in default. **55.6%** customer has **housing loan** and only **16%** customer has **personal loan**."
      ],
      "metadata": {
        "id": "b0vo8XlDDAf7"
      }
    },
    {
      "cell_type": "markdown",
      "source": [
        "##### **7. Contact**"
      ],
      "metadata": {
        "id": "IcvbVCddM6RX"
      }
    },
    {
      "cell_type": "code",
      "source": [
        "df.contact.value_counts().sort_values()"
      ],
      "metadata": {
        "id": "tZfcTJ9VM6Rw"
      },
      "execution_count": null,
      "outputs": []
    },
    {
      "cell_type": "code",
      "source": [
        "pie_chart('contact')"
      ],
      "metadata": {
        "id": "MHJQg3r3M6Rx"
      },
      "execution_count": null,
      "outputs": []
    },
    {
      "cell_type": "markdown",
      "source": [
        "Most of the customer contacted through **cellular (64.8%)**. only **6.4%** customer contacted through **telephone**."
      ],
      "metadata": {
        "id": "-UkQPhDHDJ-c"
      }
    },
    {
      "cell_type": "markdown",
      "source": [
        "##### **8. Last Time (Day, Month, Duration)**"
      ],
      "metadata": {
        "id": "7oIbson6R4Lg"
      }
    },
    {
      "cell_type": "code",
      "source": [
        "df.day.value_counts().sort_values()"
      ],
      "metadata": {
        "id": "2AfNlrkyR4L3"
      },
      "execution_count": null,
      "outputs": []
    },
    {
      "cell_type": "code",
      "source": [
        "df.month.value_counts().sort_values()"
      ],
      "metadata": {
        "id": "XB9ccMNKYWaf"
      },
      "execution_count": null,
      "outputs": []
    },
    {
      "cell_type": "code",
      "source": [
        "df.duration.value_counts().sort_values()"
      ],
      "metadata": {
        "id": "oQOtffuOZO6x"
      },
      "execution_count": null,
      "outputs": []
    },
    {
      "cell_type": "code",
      "source": [
        "# countplot of day of last month when contact to customers\n",
        "plt.figure(figsize=(20,6))\n",
        "sns.countplot(x=df['day'])"
      ],
      "metadata": {
        "id": "gLAUcC4hUU90"
      },
      "execution_count": null,
      "outputs": []
    },
    {
      "cell_type": "markdown",
      "source": [
        "Mostely customer of bank contacted **20th** day of last month and very few customer contacted **1st** day of last month."
      ],
      "metadata": {
        "id": "juQxvkPxDiyy"
      }
    },
    {
      "cell_type": "code",
      "source": [
        "# countplot of last year's month when contact to customers\n",
        "plt.figure(figsize=(10,6))\n",
        "sns.countplot(x=df['month'])"
      ],
      "metadata": {
        "id": "G08b0r0fXxhv"
      },
      "execution_count": null,
      "outputs": []
    },
    {
      "cell_type": "markdown",
      "source": [
        "last year's month **may** mostly customer contacted while in **december** month very few customer contacted."
      ],
      "metadata": {
        "id": "Mq6S0A6MDo6A"
      }
    },
    {
      "cell_type": "code",
      "source": [
        "# histplot of duration in second, how many seconds contact to customers\n",
        "plt.figure(figsize=(10,6))\n",
        "sns.histplot(data=df, x='duration', bins=10, kde=True)"
      ],
      "metadata": {
        "id": "x2Tp7s5Hsr-X"
      },
      "execution_count": null,
      "outputs": []
    },
    {
      "cell_type": "markdown",
      "source": [
        "Mostly call contact duration fall into **1 to 500 sec** category."
      ],
      "metadata": {
        "id": "rNB1v0whD3ow"
      }
    },
    {
      "cell_type": "markdown",
      "source": [
        "##### **9. Campaign**"
      ],
      "metadata": {
        "id": "6kb3bzcUmr60"
      }
    },
    {
      "cell_type": "code",
      "source": [
        "df.campaign.value_counts().sort_values()"
      ],
      "metadata": {
        "id": "5O0qW0kQmr7L"
      },
      "execution_count": null,
      "outputs": []
    },
    {
      "cell_type": "code",
      "source": [
        "# countplot of various number of contact were perfomed to customer\n",
        "plt.figure(figsize=(18,6))\n",
        "sns.countplot(x=df['campaign'], hue=df.y)"
      ],
      "metadata": {
        "id": "7e7DVjORmr7M"
      },
      "execution_count": null,
      "outputs": []
    },
    {
      "cell_type": "markdown",
      "source": [
        "Moslty customer contacted **only 1 time**, while many customer contacted more number of times, and conversion rate **reduced after 20** we did not see any significant conversions thus we drop those observations later on.\n"
      ],
      "metadata": {
        "id": "31vsETZAEB1R"
      }
    },
    {
      "cell_type": "markdown",
      "source": [
        "##### **10. Previous Campagin (pdays, previous, poutcome)**"
      ],
      "metadata": {
        "id": "rd3yqikhxaKK"
      }
    },
    {
      "cell_type": "markdown",
      "source": [
        "**pdays: number of days that passed by after the client was last contacted from a previous campaign (numeric, -1 means client was not previously contacted)**"
      ],
      "metadata": {
        "id": "ISAUUw7AzLt3"
      }
    },
    {
      "cell_type": "code",
      "source": [
        "df.pdays.value_counts().sort_index()"
      ],
      "metadata": {
        "id": "dvL413iaxaKZ"
      },
      "execution_count": null,
      "outputs": []
    },
    {
      "cell_type": "code",
      "source": [
        "# number of days that passed by after the customer last contacted from previous campaign\n",
        "plt.figure(figsize=(18,6))\n",
        "sns.histplot(x=df['pdays'], kde=True)"
      ],
      "metadata": {
        "id": "U2DwLhN8xaKZ"
      },
      "execution_count": null,
      "outputs": []
    },
    {
      "cell_type": "markdown",
      "source": [
        "Most of the customer haven’t contacted yet, while longest time is more than 850"
      ],
      "metadata": {
        "id": "n_GBtxXz_LTc"
      }
    },
    {
      "cell_type": "markdown",
      "source": [
        "**Previous: number of contacts performed before this campaign and for this client.**"
      ],
      "metadata": {
        "id": "LSV8VKgT28Yp"
      }
    },
    {
      "cell_type": "code",
      "source": [
        "df.previous.value_counts().sort_index()"
      ],
      "metadata": {
        "id": "Q-LJxa6T3rL0"
      },
      "execution_count": null,
      "outputs": []
    },
    {
      "cell_type": "code",
      "source": [
        "# number of days that passed by after the customer last contacted from previous campaign\n",
        "plt.figure(figsize=(18,6))\n",
        "sns.countplot(x=df['previous'])"
      ],
      "metadata": {
        "id": "U5noBD3D0AUj"
      },
      "execution_count": null,
      "outputs": []
    },
    {
      "cell_type": "markdown",
      "source": [
        "Large amount of customer not contacted previously."
      ],
      "metadata": {
        "id": "qlD0A5HZ_A8y"
      }
    },
    {
      "cell_type": "markdown",
      "source": [
        "**poutcome: outcome of the previous marketing campaign**"
      ],
      "metadata": {
        "id": "rOLdb_yE1OW7"
      }
    },
    {
      "cell_type": "code",
      "source": [
        "df.poutcome.value_counts()"
      ],
      "metadata": {
        "id": "V_-PnIX82lvO"
      },
      "execution_count": null,
      "outputs": []
    },
    {
      "cell_type": "code",
      "source": [
        "# countplot of accept and reject term deposit on the basis of poutcome (result in previous campaign)\n",
        "plt.figure(figsize=(10, 5))\n",
        "sns.countplot(data = df, x= 'poutcome')"
      ],
      "metadata": {
        "id": "WjLl34fV0A_2"
      },
      "execution_count": null,
      "outputs": []
    },
    {
      "cell_type": "markdown",
      "source": [
        "Outcome of previous marketing campaign mostly result was unknown and failure rate is more than success rate."
      ],
      "metadata": {
        "id": "5M041S8m-sAR"
      }
    },
    {
      "cell_type": "markdown",
      "source": [
        "##### **11. y (Term Deposit)**"
      ],
      "metadata": {
        "id": "2bA3xFZVAXuy"
      }
    },
    {
      "cell_type": "code",
      "source": [
        "df.y.value_counts()"
      ],
      "metadata": {
        "id": "YENtEePwAXvO"
      },
      "execution_count": null,
      "outputs": []
    },
    {
      "cell_type": "code",
      "source": [
        "# pie chart of term deposit, customer has subscribed or not\n",
        "pie_chart('y')"
      ],
      "metadata": {
        "id": "QAFOmqE3AXvP"
      },
      "execution_count": null,
      "outputs": []
    },
    {
      "cell_type": "markdown",
      "source": [
        "**88.3% has not subscribed** for term deposit while only **11.7% has subscribed**."
      ],
      "metadata": {
        "id": "6pVcyAJ8B3EG"
      }
    },
    {
      "cell_type": "markdown",
      "source": [
        "#### **Multivariate Analysis**"
      ],
      "metadata": {
        "id": "U8IVnDXxBZ8m"
      }
    },
    {
      "cell_type": "code",
      "source": [
        "sns.boxplot(data = df, x = 'loan', y = 'age')\n",
        "plt.title('Distribution of age based on Personal Loan Status')"
      ],
      "metadata": {
        "id": "b91ipSpbDDrs"
      },
      "execution_count": null,
      "outputs": []
    },
    {
      "cell_type": "markdown",
      "source": [
        "median age of subscriber's who subscribed and not subscribed personal loan is almost same."
      ],
      "metadata": {
        "id": "reBaFb4OJtEx"
      }
    },
    {
      "cell_type": "code",
      "source": [
        "sns.boxplot(data = df, x = 'y', y = 'age')\n",
        "plt.title('Distribution of age based on Term Deposit Status')\n",
        "plt.xlabel('Term Deposit')"
      ],
      "metadata": {
        "id": "ZazSZz6GLGj_"
      },
      "execution_count": null,
      "outputs": []
    },
    {
      "cell_type": "markdown",
      "source": [
        "median age of subscriber's who subscribed and not subscribed Term deposit is also almost same."
      ],
      "metadata": {
        "id": "5bnlyQIxMAPl"
      }
    },
    {
      "cell_type": "code",
      "source": [
        "sns.boxplot(data = df, x = 'y', y = 'duration')\n",
        "plt.title('Effect of Duration on Term Desposit')\n",
        "plt.xlabel('Term Deposit')"
      ],
      "metadata": {
        "id": "ISozAyLnNHXa"
      },
      "execution_count": null,
      "outputs": []
    },
    {
      "cell_type": "markdown",
      "source": [
        "median duration of customer's who subscribed for term deposit is near 430 and for customer's who not subscribed is near 150. That means **duration is highly affecting to term deposit**."
      ],
      "metadata": {
        "id": "wwodG1z8NApO"
      }
    },
    {
      "cell_type": "code",
      "source": [
        "# Correlation Heatmap visualization code\n",
        "sns.heatmap(df.corr(), annot=True, cmap=\"coolwarm\", linewidths=.5)"
      ],
      "metadata": {
        "id": "RufP4afCaSCr"
      },
      "execution_count": null,
      "outputs": []
    },
    {
      "cell_type": "markdown",
      "source": [
        "Using heatmap we have seen there is no collinearity."
      ],
      "metadata": {
        "id": "zGLZ4CNPqxVu"
      }
    },
    {
      "cell_type": "code",
      "source": [
        "# Pair Plot visualization with hue y\n",
        "# sns.pairplot(df, hue='y')"
      ],
      "metadata": {
        "id": "ai-9nmiDeLvD"
      },
      "execution_count": null,
      "outputs": []
    },
    {
      "cell_type": "markdown",
      "source": [
        "\n",
        "Using pairplot we have seen the scatters of y among numerical columns."
      ],
      "metadata": {
        "id": "xlvdgDU0q2Qm"
      }
    },
    {
      "cell_type": "code",
      "source": [
        "# differentciate num and cat columns for stripplot\n",
        "numerical = ['age',\t'balance',\t'duration','campaign',\t'pdays',\t'previous']\n",
        "categorical = ['job','marital','education','default','housing',\t'loan',\t'contact',\t'month',\t'poutcome']"
      ],
      "metadata": {
        "id": "_GIyjpZyn16z"
      },
      "execution_count": null,
      "outputs": []
    },
    {
      "cell_type": "markdown",
      "source": [
        "#### **Strip plot among numerical and categorical features**"
      ],
      "metadata": {
        "id": "fq4Flzi-rNej"
      }
    },
    {
      "cell_type": "code",
      "source": [
        "plt.figure(figsize=(10,5))\n",
        "for num in numerical:\n",
        "  for cat in categorical:\n",
        "    plt.figure(figsize=(14,6))\n",
        "    sns.stripplot(x= cat, y=num, hue=\"y\", data=df, palette='muted')\n",
        "    plt.title(f'Strip Plot: {num} vs {cat}')"
      ],
      "metadata": {
        "id": "ZW2wc3cNoQ4o"
      },
      "execution_count": null,
      "outputs": []
    },
    {
      "cell_type": "markdown",
      "source": [
        "Strip plot helped in to analyze of each feature for term yes and no."
      ],
      "metadata": {
        "id": "txhhgZ4RrvYa"
      }
    },
    {
      "cell_type": "markdown",
      "source": [
        "### What all manipulations have you done and insights you found?"
      ],
      "metadata": {
        "id": "MSa1f5Uengrz"
      }
    },
    {
      "cell_type": "markdown",
      "source": [
        "* Majority of customer fall into **30s and 40s age group** and minority of customer after 60s age group.\n",
        "\n",
        "* Most of the customer belongs to **Blue Caller job (21.5%)** followed by managment and technician.\n",
        "\n",
        "* Mostly cumstomer are **married (60.19%)**.\n",
        "\n",
        "* **Primary education is less** common among customers, with the **majority having attained secondary education (51.32%)**.\n",
        "\n",
        "* we have seen **service** person has **less balance** in bank account, while **retiered person** has **good amount** of balance.\n",
        "\n",
        "* **Only 1.80% customer** has credit in default. **55.6%** customer has **housing loan** and only **16%** customer has **personal loan**.\n",
        "\n",
        "* Most of the customer contacted through **cellular (64.8%)**. only **6.4%** customer contacted through **telephone**.\n",
        "\n",
        "* Last Time (day, month, duration)\n",
        "> * Mostely customer of bank contacted **20th** day of last month and very few customer contacted **1st** day of last month.\n",
        "> * last year's month **may** mostly customer contacted while in **december** month very few customer contacted.\n",
        "> * Mostly call contact duration fall into **1 to 500 sec** catagory.\n",
        "\n",
        "* Moslty customer contacted **only 1 time**, while many customer contacted more number of times,\n",
        "and conversion rate **reduced after 20** we did not see any significant conversions thus\n",
        "we drop those observations later on.\n",
        "*  Previous Campagin (pdays, previous, poutcome)\n",
        "> * Most of the customer haven’t contacted yet, while longest time is more than 850.\n",
        "> * Large amount of customer not contacted previously.\n",
        "> * Outcome of previous marketing campaign mostly result was unknown and failure rate is more than success rate.\n",
        "\n",
        "\n",
        "* **88.3% has not subscribed** for term deposit while only **11.7% has subscribed**.\n",
        "\n",
        "* median age of subscriber's who subscribed and not subscribed personal loan is almost same.\n",
        "\n",
        "* median age of subscriber's who subscribed and not subscribed Term deposit is also almost same.\n",
        "\n",
        "* median duration of customer's who subscribed for term deposit is near 430 and for customer's who not subscribed is near 150. That means **duration is highly affecting to term deposit**.\n",
        "\n",
        "* using heatmap we have seen there is no collinearity.\n",
        "\n",
        "* using pairplot we have seen the scatters of y among numerical columns.\n",
        "\n",
        "* Strip plot helped in to analyze of each feature for term yes and no.\n",
        "\n",
        "\n",
        "\n",
        "\n",
        "\n"
      ],
      "metadata": {
        "id": "LbyXE7I1olp8"
      }
    },
    {
      "cell_type": "markdown",
      "source": [
        "## ***4. Feature Engineering & Data Pre-processing***"
      ],
      "metadata": {
        "id": "yLjJCtPM0KBk"
      }
    },
    {
      "cell_type": "code",
      "source": [
        "# checking missing values\n",
        "df.isnull().sum()"
      ],
      "metadata": {
        "id": "iRsAHk1K0fpS"
      },
      "execution_count": null,
      "outputs": []
    },
    {
      "cell_type": "markdown",
      "source": [
        "in this dataset there is no missing values"
      ],
      "metadata": {
        "id": "1ixusLtI0pqI"
      }
    },
    {
      "cell_type": "code",
      "source": [
        "# removing outiler from numarical columns\n",
        "df= df[df['age'] < 90]\n",
        "df= df[(df['balance'] < 75000)]\n",
        "df= df[df['duration'] < 3500]\n",
        "df= df[df['campaign'] < 50]\n",
        "df= df[df['previous'] < 80]\n",
        "df.shape"
      ],
      "metadata": {
        "id": "V6cJFwwA1YVm"
      },
      "execution_count": null,
      "outputs": []
    },
    {
      "cell_type": "markdown",
      "source": [
        "As we have seen from above charts (histogram, boxplot and klib) some outlier was there so we prefere to remove them."
      ],
      "metadata": {
        "id": "hFDbYT5beAdL"
      }
    },
    {
      "cell_type": "markdown",
      "source": [
        "### Encoding Categorical"
      ],
      "metadata": {
        "id": "0Cxg5ChWVmml"
      }
    },
    {
      "cell_type": "code",
      "source": [
        "# importing train_test_split\n",
        "from sklearn.model_selection import train_test_split\n",
        "\n",
        "# importing Encoders\n",
        "from sklearn.preprocessing import OneHotEncoder     #for nominal data"
      ],
      "metadata": {
        "id": "3tzZYFM6KyO7"
      },
      "execution_count": null,
      "outputs": []
    },
    {
      "cell_type": "code",
      "source": [
        "X = df.drop('y', axis = 1)   #independent variable\n",
        "Y = df['y']                  #dependent variable"
      ],
      "metadata": {
        "id": "CMsnfdn0L36z"
      },
      "execution_count": null,
      "outputs": []
    },
    {
      "cell_type": "code",
      "source": [
        "# spliting in train test\n",
        "x_train, x_test, y_train, y_test = train_test_split(X, Y, test_size = 0.2, random_state = 0)"
      ],
      "metadata": {
        "id": "UruLv5ulLCjJ"
      },
      "execution_count": null,
      "outputs": []
    },
    {
      "cell_type": "code",
      "source": [
        "print(\"X_train shape:\", x_train.shape)\n",
        "print(\"X_test shape:\", x_test.shape)\n",
        "print(\"Y_train shape:\", y_train.shape)\n",
        "print(\"Y_test shape:\", y_test.shape)"
      ],
      "metadata": {
        "id": "Fd2-MioFLCoF"
      },
      "execution_count": null,
      "outputs": []
    },
    {
      "cell_type": "code",
      "source": [
        "# one hot encoder for nominal data\n",
        "'''\n",
        "  in one hot encoder we declare 'drop' for avoiding multicollinearity, it will drop first column after encoding\n",
        "  and 'sparse' false will return a dense matrix instead of a sparse matrix.\n",
        "'''\n",
        "ohe = OneHotEncoder(drop = 'first', sparse = False)\n",
        "\n",
        "# define categorical columns\n",
        "cat_cols = ['job', 'marital', 'education', 'default', 'housing', 'loan', 'contact', 'month', 'poutcome']"
      ],
      "metadata": {
        "id": "fFgMmdnSRk8n"
      },
      "execution_count": null,
      "outputs": []
    },
    {
      "cell_type": "code",
      "source": [
        "# Fit and transform the categorical columns in the training set\n",
        "x_train_encoded = ohe.fit_transform(x_train[cat_cols])\n",
        "\n",
        "# Transform the categorical columns in the testing set\n",
        "x_test_encoded = ohe.transform(x_test[cat_cols])\n",
        "\n",
        "# Get the feature (column) names from the OneHotEncoder\n",
        "feature_names = ohe.get_feature_names_out(cat_cols)\n",
        "\n",
        "# Convert the encoded data to DataFrames\n",
        "x_train_df = pd.DataFrame(x_train_encoded, columns = feature_names)\n",
        "x_test_df = pd.DataFrame(x_test_encoded, columns = feature_names)\n",
        "\n",
        "# Drop the original categorical columns in both sets\n",
        "x_train_dropped = x_train.drop(columns=cat_cols)\n",
        "x_test_dropped = x_test.drop(columns=cat_cols)\n",
        "\n",
        "# Concatenate the encoded columns to the original DataFrames\n",
        "x_train_final = pd.concat([x_train_dropped, x_train_df], axis=1)\n",
        "x_test_final = pd.concat([x_test_dropped, x_test_df], axis=1)\n",
        "\n",
        "# Encode target train and test\n",
        "y_train_final = y_train.apply(lambda x: 1 if x == 'yes' else 0)\n",
        "y_test_final = y_test.apply(lambda x: 1 if x == 'yes' else 0)"
      ],
      "metadata": {
        "id": "Y7EaTGWnS0JV"
      },
      "execution_count": null,
      "outputs": []
    },
    {
      "cell_type": "markdown",
      "source": [
        "It is necessary to encode categorical features. So for encoding categorical features we imported OneHotEncoder from sklearn and then define our X and Y. after that we split into train and test because it is recommended to split before encoding.\n",
        "\n",
        "* Some of our data has numerical features so we have **define our categorical variable** (cat_cols) and put manually categorical columns.\n",
        "* Then we **fit and transform** together on to the **x_train**, and **transform** for **x_test**.\n",
        "* **Fetch column’s name** using **get_feature_names_out** after one hot encoding.\n",
        "* Convert the **encoded data to dataframe** on both train and test data\n",
        "* Then we **drop original columns** from our train and test data.\n",
        "* And **concat** encoded train dataframe and original dataframe with dropped columns.\n"
      ],
      "metadata": {
        "id": "nWjCEzimL236"
      }
    },
    {
      "cell_type": "markdown",
      "source": [
        "<h3> After hot code encoding out dataset has automatically filled with NaN so we will fill with 0 </h3>"
      ],
      "metadata": {
        "id": "UuEF604O7-92"
      }
    },
    {
      "cell_type": "code",
      "source": [
        "x_train_final"
      ],
      "metadata": {
        "id": "JGnQZlrF4Oa5"
      },
      "execution_count": null,
      "outputs": []
    },
    {
      "cell_type": "code",
      "source": [
        "x_train_final.fillna(0, inplace = True)\n",
        "x_test_final.fillna(0, inplace = True)\n",
        "x_train_final.head(10)"
      ],
      "metadata": {
        "id": "aRINqyoPaXFg"
      },
      "execution_count": null,
      "outputs": []
    },
    {
      "cell_type": "markdown",
      "source": [
        "### Data Scaling"
      ],
      "metadata": {
        "id": "rMDnDkt2B6du"
      }
    },
    {
      "cell_type": "code",
      "source": [
        "# Scaling your data\n",
        "from sklearn.preprocessing import StandardScaler\n",
        "\n",
        "scaler = StandardScaler()\n",
        "\n",
        "# Copying x_train_final and x_test_final dataframe to new variable\n",
        "x_train_scaled = x_train_final.copy()\n",
        "x_test_scaled = x_test_final.copy()\n",
        "\n",
        "\n",
        "num_cols = ['age', 'balance', 'day', 'campaign', 'pdays', 'previous']\n",
        "x_train_scaled[num_cols] = scaler.fit_transform(x_train_final[num_cols])\n",
        "x_train_scaled[num_cols] = scaler.fit_transform(x_train_final[num_cols])\n",
        "\n",
        "x_train_scaled.head()"
      ],
      "metadata": {
        "id": "dL9LWpySC6x_"
      },
      "execution_count": null,
      "outputs": []
    },
    {
      "cell_type": "markdown",
      "source": [
        "## ***ML Model Implementation***\n",
        "\n"
      ],
      "metadata": {
        "id": "VfCC591jGiD4"
      }
    },
    {
      "cell_type": "markdown",
      "source": [
        "### ML Model - 1"
      ],
      "metadata": {
        "id": "OB4l2ZhMeS1U"
      }
    },
    {
      "cell_type": "code",
      "source": [
        "# ML Model - 1 Implementation\n",
        "\n",
        "# Fit the Algorithm\n",
        "\n",
        "# Predict on the model"
      ],
      "metadata": {
        "id": "7ebyywQieS1U"
      },
      "execution_count": null,
      "outputs": []
    },
    {
      "cell_type": "markdown",
      "source": [
        "#### 1. Explain the ML Model used and it's performance using Evaluation metric Score Chart."
      ],
      "metadata": {
        "id": "ArJBuiUVfxKd"
      }
    },
    {
      "cell_type": "code",
      "source": [
        "# Visualizing evaluation Metric Score chart"
      ],
      "metadata": {
        "id": "rqD5ZohzfxKe"
      },
      "execution_count": null,
      "outputs": []
    },
    {
      "cell_type": "markdown",
      "source": [
        "#### 2. Cross- Validation & Hyperparameter Tuning"
      ],
      "metadata": {
        "id": "4qY1EAkEfxKe"
      }
    },
    {
      "cell_type": "code",
      "source": [
        "# ML Model - 1 Implementation with hyperparameter optimization techniques (i.e., GridSearch CV, RandomSearch CV, Bayesian Optimization etc.)\n",
        "\n",
        "# Fit the Algorithm\n",
        "\n",
        "# Predict on the model"
      ],
      "metadata": {
        "id": "Dy61ujd6fxKe"
      },
      "execution_count": null,
      "outputs": []
    },
    {
      "cell_type": "markdown",
      "source": [
        "##### Which hyperparameter optimization technique have you used and why?"
      ],
      "metadata": {
        "id": "PiV4Ypx8fxKe"
      }
    },
    {
      "cell_type": "markdown",
      "source": [
        "Answer Here."
      ],
      "metadata": {
        "id": "negyGRa7fxKf"
      }
    },
    {
      "cell_type": "markdown",
      "source": [
        "##### Have you seen any improvement? Note down the improvement with updates Evaluation metric Score Chart."
      ],
      "metadata": {
        "id": "TfvqoZmBfxKf"
      }
    },
    {
      "cell_type": "markdown",
      "source": [
        "Answer Here."
      ],
      "metadata": {
        "id": "OaLui8CcfxKf"
      }
    },
    {
      "cell_type": "markdown",
      "source": [
        "### ML Model - 2"
      ],
      "metadata": {
        "id": "dJ2tPlVmpsJ0"
      }
    },
    {
      "cell_type": "markdown",
      "source": [
        "#### 1. Explain the ML Model used and it's performance using Evaluation metric Score Chart."
      ],
      "metadata": {
        "id": "JWYfwnehpsJ1"
      }
    },
    {
      "cell_type": "code",
      "source": [
        "# Visualizing evaluation Metric Score chart"
      ],
      "metadata": {
        "id": "yEl-hgQWpsJ1"
      },
      "execution_count": null,
      "outputs": []
    },
    {
      "cell_type": "markdown",
      "source": [
        "#### 2. Cross- Validation & Hyperparameter Tuning"
      ],
      "metadata": {
        "id": "-jK_YjpMpsJ2"
      }
    },
    {
      "cell_type": "code",
      "source": [
        "# ML Model - 1 Implementation with hyperparameter optimization techniques (i.e., GridSearch CV, RandomSearch CV, Bayesian Optimization etc.)\n",
        "\n",
        "# Fit the Algorithm\n",
        "\n",
        "# Predict on the model"
      ],
      "metadata": {
        "id": "Dn0EOfS6psJ2"
      },
      "execution_count": null,
      "outputs": []
    },
    {
      "cell_type": "markdown",
      "source": [
        "##### Which hyperparameter optimization technique have you used and why?"
      ],
      "metadata": {
        "id": "HAih1iBOpsJ2"
      }
    },
    {
      "cell_type": "markdown",
      "source": [
        "Answer Here."
      ],
      "metadata": {
        "id": "9kBgjYcdpsJ2"
      }
    },
    {
      "cell_type": "markdown",
      "source": [
        "##### Have you seen any improvement? Note down the improvement with updates Evaluation metric Score Chart."
      ],
      "metadata": {
        "id": "zVGeBEFhpsJ2"
      }
    },
    {
      "cell_type": "markdown",
      "source": [
        "Answer Here."
      ],
      "metadata": {
        "id": "74yRdG6UpsJ3"
      }
    },
    {
      "cell_type": "markdown",
      "source": [
        "#### 3. Explain each evaluation metric's indication towards business and the business impact pf the ML model used."
      ],
      "metadata": {
        "id": "bmKjuQ-FpsJ3"
      }
    },
    {
      "cell_type": "markdown",
      "source": [
        "Answer Here."
      ],
      "metadata": {
        "id": "BDKtOrBQpsJ3"
      }
    },
    {
      "cell_type": "markdown",
      "source": [
        "### ML Model - 3"
      ],
      "metadata": {
        "id": "Fze-IPXLpx6K"
      }
    },
    {
      "cell_type": "code",
      "source": [
        "# ML Model - 3 Implementation\n",
        "\n",
        "# Fit the Algorithm\n",
        "\n",
        "# Predict on the model"
      ],
      "metadata": {
        "id": "FFrSXAtrpx6M"
      },
      "execution_count": null,
      "outputs": []
    },
    {
      "cell_type": "markdown",
      "source": [
        "#### 1. Explain the ML Model used and it's performance using Evaluation metric Score Chart."
      ],
      "metadata": {
        "id": "7AN1z2sKpx6M"
      }
    },
    {
      "cell_type": "code",
      "source": [
        "# Visualizing evaluation Metric Score chart"
      ],
      "metadata": {
        "id": "xIY4lxxGpx6M"
      },
      "execution_count": null,
      "outputs": []
    },
    {
      "cell_type": "markdown",
      "source": [
        "#### 2. Cross- Validation & Hyperparameter Tuning"
      ],
      "metadata": {
        "id": "9PIHJqyupx6M"
      }
    },
    {
      "cell_type": "code",
      "source": [
        "# ML Model - 3 Implementation with hyperparameter optimization techniques (i.e., GridSearch CV, RandomSearch CV, Bayesian Optimization etc.)\n",
        "\n",
        "# Fit the Algorithm\n",
        "\n",
        "# Predict on the model"
      ],
      "metadata": {
        "id": "eSVXuaSKpx6M"
      },
      "execution_count": null,
      "outputs": []
    },
    {
      "cell_type": "markdown",
      "source": [
        "##### Which hyperparameter optimization technique have you used and why?"
      ],
      "metadata": {
        "id": "_-qAgymDpx6N"
      }
    },
    {
      "cell_type": "markdown",
      "source": [
        "Answer Here."
      ],
      "metadata": {
        "id": "lQMffxkwpx6N"
      }
    },
    {
      "cell_type": "markdown",
      "source": [
        "##### Have you seen any improvement? Note down the improvement with updates Evaluation metric Score Chart."
      ],
      "metadata": {
        "id": "Z-hykwinpx6N"
      }
    },
    {
      "cell_type": "markdown",
      "source": [
        "Answer Here."
      ],
      "metadata": {
        "id": "MzVzZC6opx6N"
      }
    },
    {
      "cell_type": "markdown",
      "source": [
        "### 1. Which Evaluation metrics did you consider for a positive business impact and why?"
      ],
      "metadata": {
        "id": "h_CCil-SKHpo"
      }
    },
    {
      "cell_type": "markdown",
      "source": [
        "Answer Here."
      ],
      "metadata": {
        "id": "jHVz9hHDKFms"
      }
    },
    {
      "cell_type": "markdown",
      "source": [
        "### 2. Which ML model did you choose from the above created models as your final prediction model and why?"
      ],
      "metadata": {
        "id": "cBFFvTBNJzUa"
      }
    },
    {
      "cell_type": "markdown",
      "source": [
        "Answer Here."
      ],
      "metadata": {
        "id": "6ksF5Q1LKTVm"
      }
    },
    {
      "cell_type": "markdown",
      "source": [
        "### 3. Explain the model which you have used and the feature importance using any model explainability tool?"
      ],
      "metadata": {
        "id": "HvGl1hHyA_VK"
      }
    },
    {
      "cell_type": "markdown",
      "source": [
        "Answer Here."
      ],
      "metadata": {
        "id": "YnvVTiIxBL-C"
      }
    },
    {
      "cell_type": "markdown",
      "source": [
        "## ***8.*** ***Future Work (Optional)***"
      ],
      "metadata": {
        "id": "EyNgTHvd2WFk"
      }
    },
    {
      "cell_type": "markdown",
      "source": [
        "### 1. Save the best performing ml model in a pickle file or joblib file format for deployment process.\n"
      ],
      "metadata": {
        "id": "KH5McJBi2d8v"
      }
    },
    {
      "cell_type": "code",
      "source": [
        "# Save the File"
      ],
      "metadata": {
        "id": "bQIANRl32f4J"
      },
      "execution_count": null,
      "outputs": []
    },
    {
      "cell_type": "markdown",
      "source": [
        "### 2. Again Load the saved model file and try to predict unseen data for a sanity check.\n"
      ],
      "metadata": {
        "id": "iW_Lq9qf2h6X"
      }
    },
    {
      "cell_type": "code",
      "source": [
        "# Load the File and predict unseen data."
      ],
      "metadata": {
        "id": "oEXk9ydD2nVC"
      },
      "execution_count": null,
      "outputs": []
    },
    {
      "cell_type": "markdown",
      "source": [
        "### ***Congrats! Your model is successfully created and ready for deployment on a live server for a real user interaction !!!***"
      ],
      "metadata": {
        "id": "-Kee-DAl2viO"
      }
    },
    {
      "cell_type": "markdown",
      "source": [
        "# **Conclusion**"
      ],
      "metadata": {
        "id": "gCX9965dhzqZ"
      }
    },
    {
      "cell_type": "markdown",
      "source": [
        "Write the conclusion here."
      ],
      "metadata": {
        "id": "Fjb1IsQkh3yE"
      }
    },
    {
      "cell_type": "markdown",
      "source": [
        "### ***Hurrah! You have successfully completed your Machine Learning Capstone Project !!!***"
      ],
      "metadata": {
        "id": "gIfDvo9L0UH2"
      }
    }
  ]
}